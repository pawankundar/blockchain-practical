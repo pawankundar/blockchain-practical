{
 "cells": [
  {
   "cell_type": "code",
   "execution_count": 1,
   "id": "117b72ab",
   "metadata": {},
   "outputs": [],
   "source": [
    "# get unspent outputs from blockchain API\n",
    "\n",
    "import json\n",
    "import requests\n",
    "\n",
    "\n",
    "address = '1KFHE7w8BhaENAswwryaoccDb6qcT6DbYY'\n",
    "\n",
    "\n",
    "\n"
   ]
  },
  {
   "cell_type": "code",
   "execution_count": 2,
   "id": "273e7f62",
   "metadata": {},
   "outputs": [
    {
     "name": "stdout",
     "output_type": "stream",
     "text": [
      "b8bcbec0aecf6b246b00e0c430a1f3a9ce6c3b8294d1e2221e1fbb701dcb1486:0 - 417331.162896 usd\n",
      "d8b365313665debbfc058419880668288433a056e751e24186c298a33e181e67:0 - 431564.903738 usd\n",
      "86810c947da40d076be3c79661ad82d2e9bc8270e0146d4ad2d61de12c972abf:0 - 417848.644113 usd\n",
      "897a755a77e6e8658eab89c11d89c0cc5d60479e5478e2906ce1cca50626740e:0 - 414098.214147 usd\n",
      "c6bacae590458b33f225e957b5cec1119915b75de66de2015817dcdec93564f1:0 - 425413.671059 usd\n",
      "2ab6c3427ce288dd16caabaa37bcb66b9c13836538b835328f98be6c25fa7a8e:2 - 4839.367256 usd\n",
      "fe7d3899845b36cc4cef65a9e65cd21a22af1144ad5f1755e8cd35b943b104f2:0 - 407270.006106 usd\n",
      "dd523934b7d01189aef84f98a3b2580ddbb2168c1b69024172655a343f978a1d:0 - 420102.828337 usd\n",
      "6a0a5d3819449f5cc0c9e10e0f66ebfd344f68e1c03de6bb51b0b8435a7dd68e:1 - 13528963.731942 usd\n",
      "90ba8d7117fba330a1506b8c5c6d75a152c88f3eef0b29f41a75159be5af07d1:0 - 428237.784539 usd\n",
      "5232b6bb301d3383071eccb3fc5fd1b6e1d88caa356ca86733e7823482fe4243:8 - 557413.702560 usd\n",
      "843920d387aa016b71fef44c8ea24275468541aa028e5c080360bded8aa94e97:0 - 410612.823817 usd\n",
      "23d386b747778c0040cb5b7859f69c23502e7d8bff89bc2457e9e95294999868:0 - 410183.759754 usd\n",
      "0f271e77d3ec2ab9a72305d0697cc0e2c7dbe7d431a2191798f2469dc03bf4a1:0 - 410714.628354 usd\n",
      "98e918a910c4ddc1545369ff02c137a3cd2cf4740c82dbe21b3879bee65d33f5:0 - 418658.928066 usd\n",
      "b217293059bb2d6f28556bfc819110697677ad4eee3fbd63992a89843caefed1:0 - 422631.163488 usd\n",
      "d29c9ae194e5960d65923f0bed6e4dbca928d815b593fd0251c16a88ef4302f4:0 - 409984.459661 usd\n",
      "0341e8a0e9329f96be8cd3dee34b8efb0c64bf6207f634c04adaddc3ed16f7d9:0 - 348397.500000 usd\n",
      "9ed58d5df78d5544b2b3cea7eeafd0f0a2a032d544067bd9736d8b8b47de3112:0 - 411689.709899 usd\n",
      "791f3e6f1b4962fcc4c017345f883893ae2acb0adbb9a947e176eb5357b5a773:0 - 411137.134183 usd\n",
      "a0650376a7cb37a8fd4a24f823ccbf58ba3455b37b410c4c26c870e595b6eb18:0 - 431408.870155 usd\n",
      "365cc18b88149630082e80a232e651e79ec505a41e3e2e129aafebcfe4c9e3f5:0 - 413980.504847 usd\n",
      "a095ae3af9dba8a2ba30757c5f3b12eaddb85df28e496d61471daa93d859cdce:0 - 400419.279880 usd\n",
      "a3f6f36711ed1cf792a2fdae74c8ba0a6f1063194827a920825eb318dbc31c25:0 - 402007.873814 usd\n",
      "c3ab36969b83b3b1bc966c8b83e3a587ffec54b210e06fd803e15032f6ca699c:0 - 404519.057216 usd\n",
      "c1d3bad7d0988ab9c4c27c876fec0d29f0b286fa961ccf3963364520e8b8d5f7:0 - 399273.705420 usd\n",
      "08d70083f6b8d63015cc9e1fdf53e6a3cc64c2b51c44d9a2436def8db3faf76b:0 - 372149.098766 usd\n"
     ]
    }
   ],
   "source": [
    "resp = requests.get('https://blockchain.info/unspent?active=%s' % address)\n",
    "utxo_set = json.loads(resp.text)[\"unspent_outputs\"]\n",
    "\n",
    "for utxo in utxo_set:\n",
    "    print(\"%s:%d - %f usd\" % (utxo['tx_hash'], utxo['tx_output_n'], (utxo['value']*0.00000001)*55743.60))"
   ]
  }
 ],
 "metadata": {
  "kernelspec": {
   "display_name": "Python 3",
   "language": "python",
   "name": "python3"
  },
  "language_info": {
   "codemirror_mode": {
    "name": "ipython",
    "version": 3
   },
   "file_extension": ".py",
   "mimetype": "text/x-python",
   "name": "python",
   "nbconvert_exporter": "python",
   "pygments_lexer": "ipython3",
   "version": "3.6.4"
  }
 },
 "nbformat": 4,
 "nbformat_minor": 5
}
